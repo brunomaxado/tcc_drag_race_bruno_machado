{
 "cells": [
  {
   "cell_type": "code",
   "execution_count": 8,
   "id": "54d5d19b",
   "metadata": {},
   "outputs": [],
   "source": [
    "import pandas as pd\n",
    "import numpy as np\n",
    "import matplotlib.pyplot as plt\n",
    "import seaborn as sns\n",
    "from sklearn.ensemble import RandomForestClassifier\n",
    "from sklearn.model_selection import train_test_split\n",
    "from sklearn.metrics import classification_report, confusion_matrix, accuracy_score\n",
    "from sklearn.preprocessing import LabelEncoder\n",
    "from sklearn.preprocessing import StandardScaler\n",
    "from sklearn.linear_model import LogisticRegression\n",
    "from sklearn.model_selection import GroupKFold \n",
    "from sklearn.model_selection import GroupShuffleSplit\n",
    "from sklearn.metrics import roc_auc_score\n",
    "\n",
    "\n",
    "fim_posicao= pd.read_excel('fim_posicao_queen.xlsx', sheet_name=0)\n",
    "meio_posicao= pd.read_excel('meio_posicao_queen.xlsx', sheet_name=0)"
   ]
  },
  {
   "cell_type": "code",
   "execution_count": 9,
   "id": "c1303268",
   "metadata": {},
   "outputs": [],
   "source": [
    "df = meio_posicao.copy()\n",
    "features = ['bom', 'ruim', 'media', 'idade']\n",
    "X = df[features]\n",
    "y = df['vencedora']"
   ]
  },
  {
   "cell_type": "code",
   "execution_count": 10,
   "id": "476ec10f",
   "metadata": {},
   "outputs": [
    {
     "data": {
      "text/plain": [
       "GroupShuffleSplit(n_splits=1, random_state=42, test_size=0.2, train_size=None)"
      ]
     },
     "execution_count": 10,
     "metadata": {},
     "output_type": "execute_result"
    }
   ],
   "source": [
    "groups = df['tempfranquia']\n",
    "gss = GroupShuffleSplit(n_splits=1, test_size=0.2, random_state=42)\n",
    "gss"
   ]
  },
  {
   "cell_type": "code",
   "execution_count": 11,
   "id": "87cb2a88",
   "metadata": {},
   "outputs": [],
   "source": [
    "train_idx, test_idx = next(gss.split(X, y, groups=groups))"
   ]
  },
  {
   "cell_type": "code",
   "execution_count": 12,
   "id": "fcce383b",
   "metadata": {},
   "outputs": [
    {
     "name": "stdout",
     "output_type": "stream",
     "text": [
      "Temporadas no treino: [ 201  301  401  501  701  801  901 1001 1101 1201 1301 1401 1501 1601\n",
      "  102  202  302  402  502  602  103  204  304  404  504  109  105  205\n",
      "  305 1011 3011 4011 1013 2013 3013 1015 3015 2014 3014 1012 2012 1016\n",
      "  307  203 1801 1901]\n",
      "Temporadas no teste: [ 101  601  104  209 2011 2015 1014  106  206 1018 1701 1802]\n"
     ]
    }
   ],
   "source": [
    "X_train = X.iloc[train_idx]\n",
    "X_test = X.iloc[test_idx]\n",
    "y_train = y.iloc[train_idx]\n",
    "y_test = y.iloc[test_idx]\n",
    "\n",
    "print(\"Temporadas no treino:\", df['tempfranquia'].iloc[train_idx].unique())\n",
    "print(\"Temporadas no teste:\", df['tempfranquia'].iloc[test_idx].unique())"
   ]
  },
  {
   "cell_type": "code",
   "execution_count": null,
   "id": "fd9ac065",
   "metadata": {},
   "outputs": [
    {
     "data": {
      "text/plain": [
       "0      1\n",
       "1      0\n",
       "2      0\n",
       "3      0\n",
       "4      0\n",
       "      ..\n",
       "490    0\n",
       "491    0\n",
       "492    0\n",
       "493    0\n",
       "494    0\n",
       "Name: vencedora, Length: 102, dtype: int64"
      ]
     },
     "execution_count": 25,
     "metadata": {},
     "output_type": "execute_result"
    }
   ],
   "source": [
    "scaler = StandardScaler()\n",
    "X_train_scaled = scaler.fit_transform(X_train)\n",
    "X_test_scaled = scaler.transform(X_test)\n"
   ]
  },
  {
   "cell_type": "code",
   "execution_count": 15,
   "id": "1c1cb8d0",
   "metadata": {},
   "outputs": [
    {
     "name": "stdout",
     "output_type": "stream",
     "text": [
      "Logistic Regression\n",
      "              precision    recall  f1-score   support\n",
      "\n",
      "           0       1.00      0.69      0.82        91\n",
      "           1       0.28      1.00      0.44        11\n",
      "\n",
      "    accuracy                           0.73       102\n",
      "   macro avg       0.64      0.85      0.63       102\n",
      "weighted avg       0.92      0.73      0.78       102\n",
      "\n",
      "[[63 28]\n",
      " [ 0 11]]\n"
     ]
    }
   ],
   "source": [
    "# REGRESSÃO LINEAR\n",
    "logreg = LogisticRegression(class_weight='balanced', random_state=42)\n",
    "logreg.fit(X_train_scaled, y_train)\n",
    "\n",
    "y_pred_lr = logreg.predict(X_test_scaled)\n",
    "probabilidades_vencedora = logreg.predict_proba(X_test_scaled)\n",
    "probs = probabilidades_vencedora[:, 1]  # pegar só probabilidade de vencer\n",
    "\n",
    "print(\"Logistic Regression\")\n",
    "print(classification_report(y_test, y_pred_lr))\n",
    "print(confusion_matrix(y_test, y_pred_lr))"
   ]
  },
  {
   "cell_type": "code",
   "execution_count": 17,
   "id": "98d21804",
   "metadata": {},
   "outputs": [
    {
     "name": "stdout",
     "output_type": "stream",
     "text": [
      "--- Chance de cada rainha ganhar ---\n",
      "              queen  Chance de Vencer (%)\n",
      "42   Bianca Del Rio                 91.99\n",
      "468      Onya Nurve                 87.62\n",
      "310        Sharonne                 85.85\n",
      "46     BenDeLaCreme                 84.40\n",
      "264      Keta Minaj                 83.88\n",
      "..              ...                   ...\n",
      "318   Jota Carajota                  0.22\n",
      "6           Akashia                  0.11\n",
      "216    Tynomi Banks                  0.09\n",
      "441   Serena Morena                  0.03\n",
      "458  Tessa Testicle                  0.02\n",
      "\n",
      "[102 rows x 2 columns]\n"
     ]
    }
   ],
   "source": [
    "probabilidades = probabilidades_vencedora[:, 1]\n",
    "\n",
    "# Crie um DataFrame para visualizar os resultados\n",
    "# Lembre-se que o X_test precisa ter os nomes das queens para esta visualização\n",
    "# Use o índice do X_test para pegar as rainhas do DataFrame original\n",
    "queens_do_teste =meio_posicao.loc[X_test.index, 'queen']\n",
    "\n",
    "# Crie um DataFrame para visualizar os resultados\n",
    "resultados = pd.DataFrame({\n",
    "    'queen': queens_do_teste,\n",
    "    'Chance de Vencer (%)': probabilidades * 100\n",
    "})\n",
    "\n",
    "resultados['Chance de Vencer (%)'] = resultados['Chance de Vencer (%)'].round(2)\n",
    "\n",
    "print(\"--- Chance de cada rainha ganhar ---\")\n",
    "print(resultados.sort_values(by='Chance de Vencer (%)', ascending=False))"
   ]
  },
  {
   "cell_type": "code",
   "execution_count": 18,
   "id": "39afe6b8",
   "metadata": {},
   "outputs": [
    {
     "name": "stdout",
     "output_type": "stream",
     "text": [
      "ROC-AUC: 0.8591408591408591\n",
      "-------------------------------\n",
      "                 queen  temporada  real  prob_vencer\n",
      "1         Nina Flowers        101     0     0.815733\n",
      "209          Rita Baga        104     0     0.806037\n",
      "442          Leexa Fox        106     0     0.744188\n",
      "443          Eva Blunt        206     1     0.500287\n",
      "264         Keta Minaj        209     0     0.838809\n",
      "42      Bianca Del Rio        601     1     0.919934\n",
      "392       Viñas DeLuxe       1014     0     0.778765\n",
      "452         Metamorkid       1018     1     0.651597\n",
      "468         Onya Nurve       1701     1     0.876185\n",
      "490  Kennedy Davenport       1802     0     0.778679\n",
      "310           Sharonne       2011     1     0.858534\n",
      "374              Piche       2015     0     0.801984\n"
     ]
    }
   ],
   "source": [
    "roc_auc = roc_auc_score(y_test, probs)\n",
    "print(\"ROC-AUC:\", roc_auc)\n",
    "print(\"-------------------------------\")\n",
    "df_ranking = pd.DataFrame({\n",
    "    \"queen\": df.loc[y_test.index, \"queen\"],\n",
    "    \"temporada\": df.loc[y_test.index, \"tempfranquia\"],\n",
    "    \"real\": y_test,\n",
    "    \"prob_vencer\": probs\n",
    "})\n",
    "\n",
    "# ordenar por probabilidade de vencer\n",
    "df_ranking = df_ranking.sort_values([\"temporada\", \"prob_vencer\"], ascending=[True, False])\n",
    "\n",
    "# ver top 1 ou top 2 de cada temporada\n",
    "top_1 = df_ranking.groupby(\"temporada\").head(1)\n",
    "print(top_1)\n"
   ]
  },
  {
   "cell_type": "code",
   "execution_count": 19,
   "id": "37b923f8",
   "metadata": {},
   "outputs": [
    {
     "data": {
      "image/png": "[encoded data removed]",
      "text/plain": [
       "<Figure size 640x480 with 1 Axes>"
      ]
     },
     "metadata": {},
     "output_type": "display_data"
    }
   ],
   "source": [
    "from sklearn.metrics import roc_curve, precision_recall_curve\n",
    "import matplotlib.pyplot as plt\n",
    "\n",
    "fpr, tpr, thresholds = roc_curve(y_test, probs)\n",
    "plt.plot(fpr, tpr)\n",
    "plt.xlabel(\"FPR\")\n",
    "plt.ylabel(\"TPR\")\n",
    "plt.title(\"Curva ROC\")\n",
    "plt.show()\n"
   ]
  },
  {
   "cell_type": "code",
   "execution_count": null,
   "id": "dfd740a4",
   "metadata": {},
   "outputs": [],
   "source": []
  },
  {
   "cell_type": "code",
   "execution_count": null,
   "id": "91458654",
   "metadata": {},
   "outputs": [],
   "source": []
  },
  {
   "cell_type": "code",
   "execution_count": null,
   "id": "ff740f8b",
   "metadata": {},
   "outputs": [],
   "source": []
  },
  {
   "cell_type": "code",
   "execution_count": null,
   "id": "a11c3d66",
   "metadata": {},
   "outputs": [],
   "source": []
  },
  {
   "cell_type": "code",
   "execution_count": null,
   "id": "28c27c78",
   "metadata": {},
   "outputs": [],
   "source": []
  },
  {
   "cell_type": "code",
   "execution_count": null,
   "id": "b7f29204",
   "metadata": {},
   "outputs": [],
   "source": []
  },
  {
   "cell_type": "code",
   "execution_count": null,
   "id": "5621c311",
   "metadata": {},
   "outputs": [],
   "source": []
  },
  {
   "cell_type": "code",
   "execution_count": null,
   "id": "9c75f597",
   "metadata": {},
   "outputs": [],
   "source": []
  },
  {
   "cell_type": "code",
   "execution_count": null,
   "id": "a5175316",
   "metadata": {},
   "outputs": [],
   "source": []
  },
  {
   "cell_type": "code",
   "execution_count": null,
   "id": "9dbc9350",
   "metadata": {},
   "outputs": [],
   "source": []
  }
 ],
 "metadata": {
  "kernelspec": {
   "display_name": "Python (com OpenCV)",
   "language": "python",
   "name": "opencv-env"
  },
  "language_info": {
   "codemirror_mode": {
    "name": "ipython",
    "version": 3
   },
   "file_extension": ".py",
   "mimetype": "text/x-python",
   "name": "python",
   "nbconvert_exporter": "python",
   "pygments_lexer": "ipython3",
   "version": "3.12.0"
  }
 },
 "nbformat": 4,
 "nbformat_minor": 5
}
