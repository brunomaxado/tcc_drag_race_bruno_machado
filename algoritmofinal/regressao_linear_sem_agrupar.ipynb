{
 "cells": [
  {
   "cell_type": "code",
   "execution_count": 1,
   "id": "54d5d19b",
   "metadata": {},
   "outputs": [],
   "source": [
    "import pandas as pd\n",
    "import numpy as np\n",
    "import matplotlib.pyplot as plt\n",
    "import seaborn as sns\n",
    "from sklearn.ensemble import RandomForestClassifier\n",
    "from sklearn.model_selection import train_test_split\n",
    "from sklearn.metrics import classification_report, confusion_matrix, accuracy_score\n",
    "from sklearn.preprocessing import LabelEncoder\n",
    "from sklearn.preprocessing import StandardScaler\n",
    "from sklearn.linear_model import LogisticRegression\n",
    "from sklearn.model_selection import GroupKFold \n",
    "dados3= pd.read_excel('queen_por_pontuacao.xlsx', sheet_name=0)\n",
    "queen_por_posicao= pd.read_excel('queen_por_pontuacao.xlsx', sheet_name=0)"
   ]
  },
  {
   "cell_type": "markdown",
   "id": "709f76c1",
   "metadata": {},
   "source": [
    "### ADICIONA UM DF COM O NUMERO DE EPISODIOS, E METADE DOS EPISODIOS DAS TEMPORADAS ###"
   ]
  },
  {
   "cell_type": "code",
   "execution_count": null,
   "id": "b0be9edb",
   "metadata": {},
   "outputs": [
    {
     "data": {
      "text/html": [
       "<div>\n",
       "<style scoped>\n",
       "    .dataframe tbody tr th:only-of-type {\n",
       "        vertical-align: middle;\n",
       "    }\n",
       "\n",
       "    .dataframe tbody tr th {\n",
       "        vertical-align: top;\n",
       "    }\n",
       "\n",
       "    .dataframe thead th {\n",
       "        text-align: right;\n",
       "    }\n",
       "</style>\n",
       "<table border=\"1\" class=\"dataframe\">\n",
       "  <thead>\n",
       "    <tr style=\"text-align: right;\">\n",
       "      <th></th>\n",
       "      <th>tempfranquia</th>\n",
       "      <th>maxep</th>\n",
       "      <th>metadeep</th>\n",
       "    </tr>\n",
       "  </thead>\n",
       "  <tbody>\n",
       "    <tr>\n",
       "      <th>0</th>\n",
       "      <td>101</td>\n",
       "      <td>6</td>\n",
       "      <td>3</td>\n",
       "    </tr>\n",
       "    <tr>\n",
       "      <th>1</th>\n",
       "      <td>102</td>\n",
       "      <td>7</td>\n",
       "      <td>3</td>\n",
       "    </tr>\n",
       "    <tr>\n",
       "      <th>2</th>\n",
       "      <td>103</td>\n",
       "      <td>9</td>\n",
       "      <td>4</td>\n",
       "    </tr>\n",
       "    <tr>\n",
       "      <th>3</th>\n",
       "      <td>104</td>\n",
       "      <td>9</td>\n",
       "      <td>4</td>\n",
       "    </tr>\n",
       "    <tr>\n",
       "      <th>4</th>\n",
       "      <td>105</td>\n",
       "      <td>7</td>\n",
       "      <td>3</td>\n",
       "    </tr>\n",
       "  </tbody>\n",
       "</table>\n",
       "</div>"
      ],
      "text/plain": [
       "   tempfranquia  maxep  metadeep\n",
       "0           101      6         3\n",
       "1           102      7         3\n",
       "2           103      9         4\n",
       "3           104      9         4\n",
       "4           105      7         3"
      ]
     },
     "execution_count": 3,
     "metadata": {},
     "output_type": "execute_result"
    }
   ],
   "source": [
    "#\n",
    "agrupa_maior_ep=dados3.groupby(\"tempfranquia\")[\"ep\"].max().reset_index()\n",
    "#agrupa_maior_ep\n",
    "\n",
    "\n",
    "maxep_metadeep = agrupa_maior_ep.rename(columns={\"ep\": \"maxep\"})\n",
    "maxep_metadeep[\"metadeep\"] = (maxep_metadeep[\"maxep\"] / 2).astype(int)\n",
    "maxep_metadeep.head()\n"
   ]
  },
  {
   "cell_type": "code",
   "execution_count": null,
   "id": "ec0a5fdd",
   "metadata": {},
   "outputs": [
    {
     "data": {
      "text/html": [
       "<div>\n",
       "<style scoped>\n",
       "    .dataframe tbody tr th:only-of-type {\n",
       "        vertical-align: middle;\n",
       "    }\n",
       "\n",
       "    .dataframe tbody tr th {\n",
       "        vertical-align: top;\n",
       "    }\n",
       "\n",
       "    .dataframe thead th {\n",
       "        text-align: right;\n",
       "    }\n",
       "</style>\n",
       "<table border=\"1\" class=\"dataframe\">\n",
       "  <thead>\n",
       "    <tr style=\"text-align: right;\">\n",
       "      <th></th>\n",
       "      <th>id</th>\n",
       "      <th>queen</th>\n",
       "      <th>bom</th>\n",
       "      <th>ruim</th>\n",
       "      <th>media</th>\n",
       "      <th>idade</th>\n",
       "      <th>tempfranquia</th>\n",
       "      <th>vencedora</th>\n",
       "    </tr>\n",
       "  </thead>\n",
       "  <tbody>\n",
       "    <tr>\n",
       "      <th>0</th>\n",
       "      <td>1</td>\n",
       "      <td>BeBe Zahara Benet</td>\n",
       "      <td>8</td>\n",
       "      <td>2</td>\n",
       "      <td>2.0</td>\n",
       "      <td>28</td>\n",
       "      <td>101</td>\n",
       "      <td>1</td>\n",
       "    </tr>\n",
       "    <tr>\n",
       "      <th>1</th>\n",
       "      <td>2</td>\n",
       "      <td>Nina Flowers</td>\n",
       "      <td>14</td>\n",
       "      <td>0</td>\n",
       "      <td>4.0</td>\n",
       "      <td>34</td>\n",
       "      <td>101</td>\n",
       "      <td>0</td>\n",
       "    </tr>\n",
       "    <tr>\n",
       "      <th>2</th>\n",
       "      <td>3</td>\n",
       "      <td>Rebecca Glasscock</td>\n",
       "      <td>8</td>\n",
       "      <td>4</td>\n",
       "      <td>1.0</td>\n",
       "      <td>26</td>\n",
       "      <td>101</td>\n",
       "      <td>0</td>\n",
       "    </tr>\n",
       "    <tr>\n",
       "      <th>3</th>\n",
       "      <td>4</td>\n",
       "      <td>Shannel</td>\n",
       "      <td>5</td>\n",
       "      <td>6</td>\n",
       "      <td>-1.0</td>\n",
       "      <td>29</td>\n",
       "      <td>101</td>\n",
       "      <td>0</td>\n",
       "    </tr>\n",
       "    <tr>\n",
       "      <th>4</th>\n",
       "      <td>5</td>\n",
       "      <td>Ongina</td>\n",
       "      <td>14</td>\n",
       "      <td>0</td>\n",
       "      <td>4.0</td>\n",
       "      <td>26</td>\n",
       "      <td>101</td>\n",
       "      <td>0</td>\n",
       "    </tr>\n",
       "  </tbody>\n",
       "</table>\n",
       "</div>"
      ],
      "text/plain": [
       "   id              queen  bom  ruim  media  idade  tempfranquia  vencedora\n",
       "0   1  BeBe Zahara Benet    8     2    2.0     28           101          1\n",
       "1   2       Nina Flowers   14     0    4.0     34           101          0\n",
       "2   3  Rebecca Glasscock    8     4    1.0     26           101          0\n",
       "3   4            Shannel    5     6   -1.0     29           101          0\n",
       "4   5             Ongina   14     0    4.0     26           101          0"
      ]
     },
     "execution_count": 16,
     "metadata": {},
     "output_type": "execute_result"
    }
   ],
   "source": [
    "## inner join dos dados com a dim queen para adicionar colunas necessarias\n",
    "\n",
    "dados_meio= pd.merge(\n",
    "    dados3,\n",
    "    maxep_metadeep,\n",
    "    left_on=[\"tempfranquia\", \"ep\"],\n",
    "    right_on=[\"tempfranquia\", \"metadeep\"],\n",
    "    how=\"inner\"\n",
    ")\n",
    "dados_meio=dados_meio.drop(['ep', 'metadeep', 'maxep','colocacao'], axis=1)\n",
    "dados_meio.head()"
   ]
  },
  {
   "cell_type": "code",
   "execution_count": 17,
   "id": "c1303268",
   "metadata": {},
   "outputs": [],
   "source": [
    "df = dados_meio.copy()\n",
    "features = ['bom', 'ruim', 'media', 'idade']\n",
    "X = df[features]\n",
    "y = df['vencedora']"
   ]
  },
  {
   "cell_type": "code",
   "execution_count": 18,
   "id": "476ec10f",
   "metadata": {},
   "outputs": [],
   "source": [
    "X_train, X_test, y_train, y_test = train_test_split(\n",
    "    X, y, test_size=0.2, random_state=42, stratify=y\n",
    ")"
   ]
  },
  {
   "cell_type": "code",
   "execution_count": 19,
   "id": "fd9ac065",
   "metadata": {},
   "outputs": [],
   "source": [
    "scaler = StandardScaler()\n",
    "X_train_scaled = scaler.fit_transform(X_train)\n",
    "X_test_scaled = scaler.transform(X_test)\n"
   ]
  },
  {
   "cell_type": "code",
   "execution_count": null,
   "id": "1c1cb8d0",
   "metadata": {},
   "outputs": [
    {
     "name": "stdout",
     "output_type": "stream",
     "text": [
      "Logistic Regression\n",
      "              precision    recall  f1-score   support\n",
      "\n",
      "           0       1.00      0.77      0.87        83\n",
      "           1       0.37      1.00      0.54        11\n",
      "\n",
      "    accuracy                           0.80        94\n",
      "   macro avg       0.68      0.89      0.70        94\n",
      "weighted avg       0.93      0.80      0.83        94\n",
      "\n",
      "[[64 19]\n",
      " [ 0 11]]\n"
     ]
    }
   ],
   "source": [
    "# Regressão \n",
    "logreg = LogisticRegression(class_weight='balanced', random_state=42)\n",
    "logreg.fit(X_train_scaled, y_train)\n",
    "\n",
    "y_pred_lr = logreg.predict(X_test_scaled)\n",
    "probabilidades_vencedora = logreg.predict_proba(X_test_scaled)\n",
    "\n",
    "print(\"Logistic Regression\")\n",
    "print(classification_report(y_test, y_pred_lr))\n",
    "print(confusion_matrix(y_test, y_pred_lr))"
   ]
  },
  {
   "cell_type": "code",
   "execution_count": null,
   "id": "98d21804",
   "metadata": {},
   "outputs": [
    {
     "name": "stdout",
     "output_type": "stream",
     "text": [
      "--- Chance de cada rainha ganhar ---\n",
      "                         queen  Chance de Vencer (%)\n",
      "120  Angeria Paris VanMichaels                 93.02\n",
      "25               Chad Michaels                 90.50\n",
      "99                  Gigi Goode                 89.61\n",
      "201                   Organzza                 86.18\n",
      "406                    Khianna                 85.07\n",
      "..                         ...                   ...\n",
      "303                 Karna Ford                  0.86\n",
      "274              Elektra Shock                  0.77\n",
      "190          Miss Naomi Carter                  0.66\n",
      "469                   Shortgun                  0.34\n",
      "59                    Kandy Ho                  0.03\n",
      "\n",
      "[94 rows x 2 columns]\n"
     ]
    }
   ],
   "source": [
    "probabilidades = probabilidades_vencedora[:, 1]\n",
    "\n",
    "queens_do_teste = dados_meio.loc[X_test.index, 'queen']\n",
    "\n",
    "\n",
    "resultados = pd.DataFrame({\n",
    "    'queen': queens_do_teste,\n",
    "    'Chance de Vencer (%)': probabilidades * 100\n",
    "})\n",
    "\n",
    "\n",
    "resultados['Chance de Vencer (%)'] = resultados['Chance de Vencer (%)'].round(2)\n",
    "\n",
    "print(\"--- Chance de cada rainha ganhar ---\")\n",
    "print(resultados.sort_values(by='Chance de Vencer (%)', ascending=False))"
   ]
  }
 ],
 "metadata": {
  "kernelspec": {
   "display_name": "Python (com OpenCV)",
   "language": "python",
   "name": "opencv-env"
  },
  "language_info": {
   "codemirror_mode": {
    "name": "ipython",
    "version": 3
   },
   "file_extension": ".py",
   "mimetype": "text/x-python",
   "name": "python",
   "nbconvert_exporter": "python",
   "pygments_lexer": "ipython3",
   "version": "3.12.0"
  }
 },
 "nbformat": 4,
 "nbformat_minor": 5
}
