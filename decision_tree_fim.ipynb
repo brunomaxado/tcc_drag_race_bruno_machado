{
 "cells": [
  {
   "cell_type": "code",
   "execution_count": 1,
   "id": "75e321a5",
   "metadata": {},
   "outputs": [],
   "source": [
    "import pandas as pd\n",
    "from sklearn.model_selection import train_test_split\n",
    "from sklearn.ensemble import RandomForestClassifier\n",
    "from sklearn.metrics import classification_report, confusion_matrix\n",
    "from imblearn.over_sampling import SMOTE\n",
    "from sklearn.model_selection import GroupKFold \n",
    "from sklearn.model_selection import GroupShuffleSplit\n"
   ]
  },
  {
   "cell_type": "code",
   "execution_count": 2,
   "id": "e2fcecd7",
   "metadata": {},
   "outputs": [],
   "source": [
    "meio_posicao= pd.read_excel('fim_posicao_queen.xlsx', sheet_name=0)\n",
    "df = pd.DataFrame(meio_posicao)"
   ]
  },
  {
   "cell_type": "code",
   "execution_count": 3,
   "id": "bb20a12f",
   "metadata": {},
   "outputs": [],
   "source": [
    "# ==== 2. Separar features e target ====\n",
    "X = df[[\"bom\",\"ruim\",\"media\",\"idade\"]]\n",
    "y = df[\"vencedora\"]"
   ]
  },
  {
   "cell_type": "code",
   "execution_count": 4,
   "id": "fb375841",
   "metadata": {},
   "outputs": [],
   "source": [
    "groups = df['tempfranquia']\n",
    "gss = GroupShuffleSplit(n_splits=1, test_size=0.2, random_state=42)\n",
    "gss\n",
    "train_idx, test_idx = next(gss.split(X, y, groups=groups))\n",
    "\n",
    "X_train = X.iloc[train_idx]\n",
    "X_test = X.iloc[test_idx]\n",
    "y_train = y.iloc[train_idx]\n",
    "y_test = y.iloc[test_idx]\n"
   ]
  },
  {
   "cell_type": "code",
   "execution_count": 5,
   "id": "008919e6",
   "metadata": {},
   "outputs": [],
   "source": [
    "sm = SMOTE(random_state=42)\n",
    "X_res, y_res = sm.fit_resample(X_train, y_train)\n"
   ]
  },
  {
   "cell_type": "code",
   "execution_count": 6,
   "id": "67b5e16f",
   "metadata": {},
   "outputs": [
    {
     "data": {
      "text/html": [
       "<style>#sk-container-id-1 {color: black;}#sk-container-id-1 pre{padding: 0;}#sk-container-id-1 div.sk-toggleable {background-color: white;}#sk-container-id-1 label.sk-toggleable__label {cursor: pointer;display: block;width: 100%;margin-bottom: 0;padding: 0.3em;box-sizing: border-box;text-align: center;}#sk-container-id-1 label.sk-toggleable__label-arrow:before {content: \"▸\";float: left;margin-right: 0.25em;color: #696969;}#sk-container-id-1 label.sk-toggleable__label-arrow:hover:before {color: black;}#sk-container-id-1 div.sk-estimator:hover label.sk-toggleable__label-arrow:before {color: black;}#sk-container-id-1 div.sk-toggleable__content {max-height: 0;max-width: 0;overflow: hidden;text-align: left;background-color: #f0f8ff;}#sk-container-id-1 div.sk-toggleable__content pre {margin: 0.2em;color: black;border-radius: 0.25em;background-color: #f0f8ff;}#sk-container-id-1 input.sk-toggleable__control:checked~div.sk-toggleable__content {max-height: 200px;max-width: 100%;overflow: auto;}#sk-container-id-1 input.sk-toggleable__control:checked~label.sk-toggleable__label-arrow:before {content: \"▾\";}#sk-container-id-1 div.sk-estimator input.sk-toggleable__control:checked~label.sk-toggleable__label {background-color: #d4ebff;}#sk-container-id-1 div.sk-label input.sk-toggleable__control:checked~label.sk-toggleable__label {background-color: #d4ebff;}#sk-container-id-1 input.sk-hidden--visually {border: 0;clip: rect(1px 1px 1px 1px);clip: rect(1px, 1px, 1px, 1px);height: 1px;margin: -1px;overflow: hidden;padding: 0;position: absolute;width: 1px;}#sk-container-id-1 div.sk-estimator {font-family: monospace;background-color: #f0f8ff;border: 1px dotted black;border-radius: 0.25em;box-sizing: border-box;margin-bottom: 0.5em;}#sk-container-id-1 div.sk-estimator:hover {background-color: #d4ebff;}#sk-container-id-1 div.sk-parallel-item::after {content: \"\";width: 100%;border-bottom: 1px solid gray;flex-grow: 1;}#sk-container-id-1 div.sk-label:hover label.sk-toggleable__label {background-color: #d4ebff;}#sk-container-id-1 div.sk-serial::before {content: \"\";position: absolute;border-left: 1px solid gray;box-sizing: border-box;top: 0;bottom: 0;left: 50%;z-index: 0;}#sk-container-id-1 div.sk-serial {display: flex;flex-direction: column;align-items: center;background-color: white;padding-right: 0.2em;padding-left: 0.2em;position: relative;}#sk-container-id-1 div.sk-item {position: relative;z-index: 1;}#sk-container-id-1 div.sk-parallel {display: flex;align-items: stretch;justify-content: center;background-color: white;position: relative;}#sk-container-id-1 div.sk-item::before, #sk-container-id-1 div.sk-parallel-item::before {content: \"\";position: absolute;border-left: 1px solid gray;box-sizing: border-box;top: 0;bottom: 0;left: 50%;z-index: -1;}#sk-container-id-1 div.sk-parallel-item {display: flex;flex-direction: column;z-index: 1;position: relative;background-color: white;}#sk-container-id-1 div.sk-parallel-item:first-child::after {align-self: flex-end;width: 50%;}#sk-container-id-1 div.sk-parallel-item:last-child::after {align-self: flex-start;width: 50%;}#sk-container-id-1 div.sk-parallel-item:only-child::after {width: 0;}#sk-container-id-1 div.sk-dashed-wrapped {border: 1px dashed gray;margin: 0 0.4em 0.5em 0.4em;box-sizing: border-box;padding-bottom: 0.4em;background-color: white;}#sk-container-id-1 div.sk-label label {font-family: monospace;font-weight: bold;display: inline-block;line-height: 1.2em;}#sk-container-id-1 div.sk-label-container {text-align: center;}#sk-container-id-1 div.sk-container {/* jupyter's `normalize.less` sets `[hidden] { display: none; }` but bootstrap.min.css set `[hidden] { display: none !important; }` so we also need the `!important` here to be able to override the default hidden behavior on the sphinx rendered scikit-learn.org. See: https://github.com/scikit-learn/scikit-learn/issues/21755 */display: inline-block !important;position: relative;}#sk-container-id-1 div.sk-text-repr-fallback {display: none;}</style><div id=\"sk-container-id-1\" class=\"sk-top-container\"><div class=\"sk-text-repr-fallback\"><pre>RandomForestClassifier(max_depth=6, n_estimators=200, random_state=42)</pre><b>In a Jupyter environment, please rerun this cell to show the HTML representation or trust the notebook. <br />On GitHub, the HTML representation is unable to render, please try loading this page with nbviewer.org.</b></div><div class=\"sk-container\" hidden><div class=\"sk-item\"><div class=\"sk-estimator sk-toggleable\"><input class=\"sk-toggleable__control sk-hidden--visually\" id=\"sk-estimator-id-1\" type=\"checkbox\" checked><label for=\"sk-estimator-id-1\" class=\"sk-toggleable__label sk-toggleable__label-arrow\">RandomForestClassifier</label><div class=\"sk-toggleable__content\"><pre>RandomForestClassifier(max_depth=6, n_estimators=200, random_state=42)</pre></div></div></div></div></div>"
      ],
      "text/plain": [
       "RandomForestClassifier(max_depth=6, n_estimators=200, random_state=42)"
      ]
     },
     "execution_count": 6,
     "metadata": {},
     "output_type": "execute_result"
    }
   ],
   "source": [
    "rf = RandomForestClassifier(\n",
    "    n_estimators=200,\n",
    "    max_depth=6,\n",
    "    random_state=42\n",
    ")\n",
    "rf.fit(X_res, y_res)"
   ]
  },
  {
   "cell_type": "code",
   "execution_count": 7,
   "id": "b59219ff",
   "metadata": {},
   "outputs": [
    {
     "name": "stdout",
     "output_type": "stream",
     "text": [
      "Matriz de confusão:\n",
      " [[30 10]\n",
      " [ 9  4]]\n",
      "\n",
      "Relatório de classificação:\n",
      "               precision    recall  f1-score   support\n",
      "\n",
      "           0       0.77      0.75      0.76        40\n",
      "           1       0.29      0.31      0.30        13\n",
      "\n",
      "    accuracy                           0.64        53\n",
      "   macro avg       0.53      0.53      0.53        53\n",
      "weighted avg       0.65      0.64      0.65        53\n",
      "\n"
     ]
    }
   ],
   "source": [
    "y_pred = rf.predict(X_test)\n",
    "print(\"Matriz de confusão:\\n\", confusion_matrix(y_test, y_pred))\n",
    "print(\"\\nRelatório de classificação:\\n\", classification_report(y_test, y_pred))\n"
   ]
  },
  {
   "cell_type": "code",
   "execution_count": 8,
   "id": "b7566dbe",
   "metadata": {},
   "outputs": [
    {
     "name": "stdout",
     "output_type": "stream",
     "text": [
      "\n",
      "Importância das variáveis:\n",
      "   feature  importancia\n",
      "2   media     0.430796\n",
      "1    ruim     0.277740\n",
      "0     bom     0.203732\n",
      "3   idade     0.087731\n"
     ]
    }
   ],
   "source": [
    "importances = pd.DataFrame({\n",
    "    \"feature\": X.columns,\n",
    "    \"importancia\": rf.feature_importances_\n",
    "}).sort_values(by=\"importancia\", ascending=False)\n",
    "\n",
    "print(\"\\nImportância das variáveis:\\n\", importances)"
   ]
  },
  {
   "cell_type": "code",
   "execution_count": 9,
   "id": "f5fda372",
   "metadata": {},
   "outputs": [
    {
     "name": "stdout",
     "output_type": "stream",
     "text": [
      "                     queen  prob_nao_vencedora  prob_vencedora  real\n",
      "221              Eva Blunt            0.019458        0.980542     0\n",
      "189         Marina Summers            0.058400        0.941600     0\n",
      "208                Alvilda            0.076375        0.923625     1\n",
      "96           Scarlett BoBo            0.142011        0.857989     0\n",
      "237             Suzie Toot            0.171427        0.828573     0\n",
      "225            Pandora Nox            0.172726        0.827274     1\n",
      "216       Cristian Peralta            0.215224        0.784776     1\n",
      "143          Carmen Farala            0.251045        0.748955     1\n",
      "235              Lexi Love            0.367143        0.632857     0\n",
      "209               La Veuve            0.401589        0.598411     0\n",
      "95               Rita Baga            0.405793        0.594207     0\n",
      "218                Matraka            0.421095        0.578905     0\n",
      "184       Ruby On The Nail            0.421856        0.578144     0\n",
      "217              Gala Varo            0.422127        0.577873     0\n",
      "191           Eva Le Queen            0.502733        0.497267     0\n",
      "220              Leexa Fox            0.522607        0.477393     1\n",
      "186            Lula Strega            0.541068        0.458932     0\n",
      "1             Nina Flowers            0.543421        0.456579     0\n",
      "185           Leona Winter            0.591093        0.408907     0\n",
      "122         My Little Puny            0.592338        0.407662     0\n",
      "188  Precious Paula Nicole            0.637309        0.362691     1\n",
      "233             Onya Nurve            0.647322        0.352678     1\n",
      "219            Regina Voce            0.676674        0.323326     0\n",
      "124             Keta Minaj            0.680538        0.319462     0\n",
      "0        BeBe Zahara Benet            0.706291        0.293709     1\n",
      "236               Sam Star            0.712550        0.287450     0\n",
      "36                 Aquaria            0.745685        0.254315     1\n",
      "24          Violet Chachki            0.760685        0.239315     1\n",
      "25             Ginger Minj            0.779023        0.220977     0\n",
      "37           Eureka O'Hara            0.868426        0.131574     0\n",
      "190              Xilhouete            0.930573        0.069427     0\n",
      "183               Le Filip            0.930607        0.069393     1\n",
      "39             Asia O'Hara            0.942897        0.057103     0\n",
      "222        Horacio Potasio            0.946468        0.053532     0\n",
      "121    Vanessa Van Cartier            0.961270        0.038730     1\n",
      "123                Vivaldi            0.978249        0.021751     0\n",
      "234        Jewels Sparkles            0.979069        0.020931     0\n",
      "27       Kennedy Davenport            0.990000        0.010000     0\n",
      "223           Jenary Bloom            0.994687        0.005313     0\n",
      "38        Kameron Michaels            0.995000        0.005000     0\n",
      "26                   Pearl            0.995000        0.005000     0\n",
      "144           Killer Queen            0.995736        0.004264     0\n",
      "94                Priyanka            0.996262        0.003738     1\n",
      "145             Sagittaria            0.996570        0.003430     0\n",
      "224     Elektra Vandergeld            0.999839        0.000161     0\n",
      "211                Gabanna            1.000000        0.000000     0\n",
      "192            Minty Fresh            1.000000        0.000000     0\n",
      "146           Pupi Poisson            1.000000        0.000000     0\n",
      "3                  Shannel            1.000000        0.000000     0\n",
      "187          Misty Phoenix            1.000000        0.000000     0\n",
      "2        Rebecca Glasscock            1.000000        0.000000     0\n",
      "97                   Jimbo            1.000000        0.000000     0\n",
      "210          Loulou Velvet            1.000000        0.000000     0\n"
     ]
    }
   ],
   "source": [
    "# Probabilidades de cada participante no teste\n",
    "probs = rf.predict_proba(X_test)\n",
    "\n",
    "# Colocar em um DataFrame junto com o nome da queen\n",
    "resultados = pd.DataFrame({\n",
    "    \"queen\": df.loc[X_test.index, \"queen\"],\n",
    "    \"prob_nao_vencedora\": probs[:,0],\n",
    "    \"prob_vencedora\": probs[:,1],\n",
    "    \"real\": y_test.values\n",
    "}).sort_values(by=\"prob_vencedora\", ascending=False)\n",
    "\n",
    "print(resultados)\n"
   ]
  },
  {
   "cell_type": "code",
   "execution_count": 10,
   "id": "4230263b",
   "metadata": {},
   "outputs": [],
   "source": [
    "resultados.to_excel('./previsoes/fim_forest_previsoes_vencedoras.xlsx', index=False)\n"
   ]
  },
  {
   "cell_type": "code",
   "execution_count": null,
   "id": "a3ac0f44",
   "metadata": {},
   "outputs": [],
   "source": []
  }
 ],
 "metadata": {
  "kernelspec": {
   "display_name": "Python (com OpenCV)",
   "language": "python",
   "name": "opencv-env"
  },
  "language_info": {
   "codemirror_mode": {
    "name": "ipython",
    "version": 3
   },
   "file_extension": ".py",
   "mimetype": "text/x-python",
   "name": "python",
   "nbconvert_exporter": "python",
   "pygments_lexer": "ipython3",
   "version": "3.12.0"
  }
 },
 "nbformat": 4,
 "nbformat_minor": 5
}
