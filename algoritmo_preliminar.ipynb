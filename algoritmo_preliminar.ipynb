{
 "cells": [
  {
   "cell_type": "code",
   "execution_count": 5,
   "id": "f2ce6620",
   "metadata": {},
   "outputs": [],
   "source": [
    "import pandas as pd\n",
    "import numpy as np\n",
    "import matplotlib.pyplot as plt\n",
    "import seaborn as sns\n",
    "from sklearn.ensemble import RandomForestClassifier\n",
    "from sklearn.model_selection import train_test_split\n",
    "from sklearn.metrics import classification_report, confusion_matrix, accuracy_score\n",
    "from sklearn.preprocessing import LabelEncoder\n"
   ]
  },
  {
   "cell_type": "code",
   "execution_count": 8,
   "id": "cb146d5c",
   "metadata": {},
   "outputs": [],
   "source": [
    "dados_xlsx = pd.ExcelFile('TCC DADOS2.xlsx')\n",
    "\n",
    "# Lê um CSV\n",
    "dados_csv = pd.read_csv('posicoes_csv.csv')"
   ]
  },
  {
   "cell_type": "code",
   "execution_count": 9,
   "id": "230832b2",
   "metadata": {},
   "outputs": [
    {
     "name": "stdout",
     "output_type": "stream",
     "text": [
      "Planilhas disponíveis: ['DimQueen', 'Planilha2', 'DimFranquia', 'DimCidade', 'DimEpisodio', 'DimCategoriaEp', 'DimTemporada', 'FatoHistorico']\n",
      "Primeiras linhas do CSV:\n",
      "    id_queen               nome  colocacao  episodio  wins  highs  safe  low  \\\n",
      "0         1  BeBe Zahara Benet          1         1     0      0     1    0   \n",
      "1         1  BeBe Zahara Benet          1         2     0      0     2    0   \n",
      "2         1  BeBe Zahara Benet          1         3     1      0     2    0   \n",
      "3         1  BeBe Zahara Benet          1         4     1      1     2    0   \n",
      "4         1  BeBe Zahara Benet          1         5     1      1     2    0   \n",
      "\n",
      "   bttm  elim  cidade  num_conf  \n",
      "0     0     0     NaN       NaN  \n",
      "1     0     0     NaN       NaN  \n",
      "2     0     0     NaN       NaN  \n",
      "3     0     0     NaN       NaN  \n",
      "4     1     0     NaN       NaN  \n"
     ]
    }
   ],
   "source": [
    "print(\"Planilhas disponíveis:\", dados_xlsx.sheet_names)\n",
    "print(\"Primeiras linhas do CSV:\\n\", dados_csv.head())\n"
   ]
  },
  {
   "cell_type": "code",
   "execution_count": 14,
   "id": "2ccf4d01",
   "metadata": {},
   "outputs": [
    {
     "name": "stdout",
     "output_type": "stream",
     "text": [
      "Primeiras linhas da DimQueen:\n",
      "    ID Nome da Participante  Idade  Colocação           Cidade      Estado  \\\n",
      "0   1    BeBe Zahara Benet     28          1      Minneapolis   Minnesota   \n",
      "1   2         Nina Flowers     34          2           Denver    Colorado   \n",
      "2   3    Rebecca Glasscock     26          3  Fort Lauderdale     Flórida   \n",
      "3   4              Shannel     29          4        Las Vegas      Nevada   \n",
      "4   5               Ongina     26          5      Los Angeles  Califórnia   \n",
      "\n",
      "   Temporada  Franquia  \n",
      "0        1.0         1  \n",
      "1        1.0         1  \n",
      "2        1.0         1  \n",
      "3        1.0         1  \n",
      "4        1.0         1  \n"
     ]
    }
   ],
   "source": [
    "dim_queen = dados_xlsx.parse('DimQueen')\n",
    "print(\"Primeiras linhas da DimQueen:\\n\", dim_queen.head())"
   ]
  },
  {
   "cell_type": "code",
   "execution_count": 15,
   "id": "35685e05",
   "metadata": {},
   "outputs": [
    {
     "name": "stdout",
     "output_type": "stream",
     "text": [
      "Dados combinados (amostra):\n",
      "    id_queen               nome  colocacao  episodio  wins  highs  safe  low  \\\n",
      "0         1  BeBe Zahara Benet          1         1     0      0     1    0   \n",
      "1         1  BeBe Zahara Benet          1         2     0      0     2    0   \n",
      "2         1  BeBe Zahara Benet          1         3     1      0     2    0   \n",
      "3         1  BeBe Zahara Benet          1         4     1      1     2    0   \n",
      "4         1  BeBe Zahara Benet          1         5     1      1     2    0   \n",
      "\n",
      "   bttm  elim  cidade  num_conf  ID Nome da Participante  Idade  Colocação  \\\n",
      "0     0     0     NaN       NaN   1    BeBe Zahara Benet     28          1   \n",
      "1     0     0     NaN       NaN   1    BeBe Zahara Benet     28          1   \n",
      "2     0     0     NaN       NaN   1    BeBe Zahara Benet     28          1   \n",
      "3     0     0     NaN       NaN   1    BeBe Zahara Benet     28          1   \n",
      "4     1     0     NaN       NaN   1    BeBe Zahara Benet     28          1   \n",
      "\n",
      "        Cidade     Estado  Temporada  Franquia  \n",
      "0  Minneapolis  Minnesota        1.0         1  \n",
      "1  Minneapolis  Minnesota        1.0         1  \n",
      "2  Minneapolis  Minnesota        1.0         1  \n",
      "3  Minneapolis  Minnesota        1.0         1  \n",
      "4  Minneapolis  Minnesota        1.0         1  \n"
     ]
    }
   ],
   "source": [
    "dados_completos = pd.merge(dados_csv, dim_queen, left_on='id_queen', right_on='ID', how='left')\n",
    "print(\"Dados combinados (amostra):\\n\", dados_completos.head())"
   ]
  },
  {
   "cell_type": "code",
   "execution_count": 16,
   "id": "0c841d74",
   "metadata": {},
   "outputs": [],
   "source": [
    "dados_completos['ganhou'] = dados_completos['Colocação'].apply(lambda x: 1 if x == 1 else 0)\n"
   ]
  },
  {
   "cell_type": "code",
   "execution_count": 17,
   "id": "4c1e2d96",
   "metadata": {},
   "outputs": [],
   "source": [
    "features = ['Idade', 'wins', 'highs', 'safe', 'low', 'bttm', 'elim']\n",
    "dados_completos[features] = dados_completos[features].fillna(0)"
   ]
  },
  {
   "cell_type": "code",
   "execution_count": 18,
   "id": "c12fa960",
   "metadata": {},
   "outputs": [],
   "source": [
    "X = dados_completos[features]\n",
    "y = dados_completos['ganhou']"
   ]
  },
  {
   "cell_type": "code",
   "execution_count": 21,
   "id": "9e5ddec0",
   "metadata": {},
   "outputs": [
    {
     "name": "stdout",
     "output_type": "stream",
     "text": [
      "Acurácia final do modelo: 96.15%\n"
     ]
    }
   ],
   "source": [
    "X_train, X_test, y_train, y_test = train_test_split(X, y, test_size=0.2, random_state=42)\n",
    "\n",
    "# 10 Treinar Random Forest\n",
    "modelo = RandomForestClassifier(n_estimators=100, random_state=42)\n",
    "modelo.fit(X_train, y_train)\n",
    "\n",
    "# 11 Fazer previsões e avaliar\n",
    "y_pred = modelo.predict(X_test)\n",
    "acuracia = accuracy_score(y_test, y_pred)\n",
    "print(\"Acurácia final do modelo: {:.2f}%\".format(acuracia * 100))\n"
   ]
  },
  {
   "cell_type": "code",
   "execution_count": 22,
   "id": "ecef6d3b",
   "metadata": {},
   "outputs": [
    {
     "name": "stdout",
     "output_type": "stream",
     "text": [
      "\n",
      "Relatório de Classificação:\n",
      "               precision    recall  f1-score   support\n",
      "\n",
      "           0       0.97      0.99      0.98       826\n",
      "           1       0.74      0.61      0.67        56\n",
      "\n",
      "    accuracy                           0.96       882\n",
      "   macro avg       0.86      0.80      0.82       882\n",
      "weighted avg       0.96      0.96      0.96       882\n",
      "\n"
     ]
    }
   ],
   "source": [
    "print(\"\\nRelatório de Classificação:\\n\", classification_report(y_test, y_pred))"
   ]
  },
  {
   "cell_type": "code",
   "execution_count": 23,
   "id": "fa7dbca2",
   "metadata": {},
   "outputs": [
    {
     "data": {
      "image/png": "[encoded data removed]",
      "text/plain": [
       "<Figure size 500x400 with 2 Axes>"
      ]
     },
     "metadata": {},
     "output_type": "display_data"
    }
   ],
   "source": [
    "plt.figure(figsize=(5,4))\n",
    "sns.heatmap(confusion_matrix(y_test, y_pred), annot=True, fmt='d', cmap='Blues')\n",
    "plt.xlabel('Previsto')\n",
    "plt.ylabel('Real')\n",
    "plt.title('Matriz de Confusão')\n",
    "plt.show()"
   ]
  },
  {
   "cell_type": "code",
   "execution_count": 24,
   "id": "0fdfc4d9",
   "metadata": {},
   "outputs": [
    {
     "name": "stdout",
     "output_type": "stream",
     "text": [
      "Importância das variáveis:\n",
      "   Feature  Importância\n",
      "0   Idade     0.318561\n",
      "1    wins     0.240567\n",
      "2   highs     0.153226\n",
      "3    safe     0.112501\n",
      "6    elim     0.060246\n",
      "4     low     0.059852\n",
      "5    bttm     0.055048\n"
     ]
    }
   ],
   "source": [
    "importancias = pd.DataFrame({'Feature': features, 'Importância': modelo.feature_importances_})\n",
    "importancias = importancias.sort_values(by='Importância', ascending=False)\n",
    "print(\"Importância das variáveis:\\n\", importancias)"
   ]
  },
  {
   "cell_type": "code",
   "execution_count": 25,
   "id": "ffba9389",
   "metadata": {},
   "outputs": [
    {
     "data": {
      "image/png": "[encoded data removed]",
      "text/plain": [
       "<Figure size 800x600 with 1 Axes>"
      ]
     },
     "metadata": {},
     "output_type": "display_data"
    }
   ],
   "source": [
    "plt.figure(figsize=(8,6))\n",
    "sns.barplot(x='Importância', y='Feature', data=importancias)\n",
    "plt.title('Importância das Variáveis')\n",
    "plt.show()"
   ]
  },
  {
   "cell_type": "code",
   "execution_count": 28,
   "id": "a4e4ad50",
   "metadata": {},
   "outputs": [],
   "source": [
    "def prever_vencedora(modelo, idade, wins, highs, safe, low, bttm, elim):\n",
    "    import pandas as pd\n",
    "\n",
    "    # Certifique-se de que os nomes das colunas correspondem exatamente aos usados durante o treino\n",
    "    nova_participante = pd.DataFrame([{\n",
    "        'Idade': idade,\n",
    "        'wins': wins,\n",
    "        'highs': highs,\n",
    "        'safe': safe,\n",
    "        'low': low,\n",
    "        'bttm': bttm,\n",
    "        'elim': elim\n",
    "    }])\n",
    "\n",
    "    try:\n",
    "        previsao = modelo.predict(nova_participante)\n",
    "        probabilidade = modelo.predict_proba(nova_participante)\n",
    "\n",
    "        if previsao[0] == 1:\n",
    "            print(\"\\nResultado: Esta participante TEM potencial para vencer o Drag Race!\")\n",
    "        else:\n",
    "            print(\"\\nResultado: Esta participante NÃO tem grandes chances de vencer.\")\n",
    "\n",
    "        print(\"Probabilidade de ganhar: {:.2f}%\".format(probabilidade[0][1]*100))\n",
    "    except Exception as e:\n",
    "        print(f\"Erro ao prever: {e}\")\n"
   ]
  },
  {
   "cell_type": "code",
   "execution_count": 36,
   "id": "b783a37a",
   "metadata": {},
   "outputs": [
    {
     "name": "stdout",
     "output_type": "stream",
     "text": [
      "\n",
      "Resultado: Esta participante NÃO tem grandes chances de vencer.\n",
      "Probabilidade de ganhar: 44.00%\n"
     ]
    }
   ],
   "source": [
    "prever_vencedora(modelo, idade=28, wins=124, highs=2234, safe=4, low=1, bttm=0, elim=0)\n"
   ]
  },
  {
   "cell_type": "code",
   "execution_count": null,
   "id": "5078aa46",
   "metadata": {},
   "outputs": [],
   "source": []
  },
  {
   "cell_type": "code",
   "execution_count": null,
   "id": "dfb3d9f3",
   "metadata": {},
   "outputs": [],
   "source": []
  },
  {
   "cell_type": "code",
   "execution_count": null,
   "id": "b6b29f94",
   "metadata": {},
   "outputs": [],
   "source": []
  },
  {
   "cell_type": "code",
   "execution_count": null,
   "id": "3dcddd1d",
   "metadata": {},
   "outputs": [],
   "source": []
  },
  {
   "cell_type": "code",
   "execution_count": null,
   "id": "b5bf3c09",
   "metadata": {},
   "outputs": [],
   "source": []
  },
  {
   "cell_type": "code",
   "execution_count": null,
   "id": "4a001e1d",
   "metadata": {},
   "outputs": [],
   "source": []
  },
  {
   "cell_type": "code",
   "execution_count": null,
   "id": "de3c4985",
   "metadata": {},
   "outputs": [],
   "source": []
  },
  {
   "cell_type": "code",
   "execution_count": null,
   "id": "d398ff55",
   "metadata": {},
   "outputs": [],
   "source": []
  },
  {
   "cell_type": "code",
   "execution_count": null,
   "id": "9d976b31",
   "metadata": {},
   "outputs": [],
   "source": []
  },
  {
   "cell_type": "code",
   "execution_count": null,
   "id": "6737283a",
   "metadata": {},
   "outputs": [],
   "source": []
  },
  {
   "cell_type": "code",
   "execution_count": null,
   "id": "889559fe",
   "metadata": {},
   "outputs": [],
   "source": []
  },
  {
   "cell_type": "code",
   "execution_count": null,
   "id": "aa8fb827",
   "metadata": {},
   "outputs": [],
   "source": []
  },
  {
   "cell_type": "code",
   "execution_count": null,
   "id": "80c1bbf6",
   "metadata": {},
   "outputs": [],
   "source": []
  },
  {
   "cell_type": "code",
   "execution_count": null,
   "id": "3da13545",
   "metadata": {},
   "outputs": [],
   "source": []
  },
  {
   "cell_type": "code",
   "execution_count": null,
   "id": "888e694a",
   "metadata": {},
   "outputs": [],
   "source": []
  },
  {
   "cell_type": "code",
   "execution_count": null,
   "id": "ece20026",
   "metadata": {},
   "outputs": [],
   "source": []
  },
  {
   "cell_type": "code",
   "execution_count": null,
   "id": "a5a53e00",
   "metadata": {},
   "outputs": [],
   "source": []
  }
 ],
 "metadata": {
  "kernelspec": {
   "display_name": "Python 3",
   "language": "python",
   "name": "python3"
  },
  "language_info": {
   "codemirror_mode": {
    "name": "ipython",
    "version": 3
   },
   "file_extension": ".py",
   "mimetype": "text/x-python",
   "name": "python",
   "nbconvert_exporter": "python",
   "pygments_lexer": "ipython3",
   "version": "3.12.0"
  }
 },
 "nbformat": 4,
 "nbformat_minor": 5
}
